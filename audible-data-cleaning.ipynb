{
 "cells": [
  {
   "cell_type": "code",
   "execution_count": 61,
   "metadata": {},
   "outputs": [],
   "source": [
    "import numpy as np\n",
    "import pandas as pd\n",
    "import matplotlib.pyplot as plt\n",
    "import seaborn as sns\n",
    "import os\n",
    "from functools import partial"
   ]
  },
  {
   "cell_type": "code",
   "execution_count": 62,
   "metadata": {},
   "outputs": [],
   "source": [
    "#https://www.kaggle.com/datasets/snehangsude/audible-dataset"
   ]
  },
  {
   "cell_type": "code",
   "execution_count": 63,
   "metadata": {},
   "outputs": [],
   "source": [
    "wd = os.getcwd()+\"/\"\n",
    "audible_uncleaned = pd.read_csv(wd+\"audible_uncleaned.csv\")"
   ]
  },
  {
   "cell_type": "code",
   "execution_count": 64,
   "metadata": {},
   "outputs": [
    {
     "data": {
      "text/html": [
       "<div>\n",
       "<style scoped>\n",
       "    .dataframe tbody tr th:only-of-type {\n",
       "        vertical-align: middle;\n",
       "    }\n",
       "\n",
       "    .dataframe tbody tr th {\n",
       "        vertical-align: top;\n",
       "    }\n",
       "\n",
       "    .dataframe thead th {\n",
       "        text-align: right;\n",
       "    }\n",
       "</style>\n",
       "<table border=\"1\" class=\"dataframe\">\n",
       "  <thead>\n",
       "    <tr style=\"text-align: right;\">\n",
       "      <th></th>\n",
       "      <th>name</th>\n",
       "      <th>author</th>\n",
       "      <th>narrator</th>\n",
       "      <th>time</th>\n",
       "      <th>releasedate</th>\n",
       "      <th>language</th>\n",
       "      <th>stars</th>\n",
       "      <th>price</th>\n",
       "    </tr>\n",
       "  </thead>\n",
       "  <tbody>\n",
       "    <tr>\n",
       "      <th>0</th>\n",
       "      <td>Geronimo Stilton #11 &amp; #12</td>\n",
       "      <td>Writtenby:GeronimoStilton</td>\n",
       "      <td>Narratedby:BillLobely</td>\n",
       "      <td>2 hrs and 20 mins</td>\n",
       "      <td>04-08-08</td>\n",
       "      <td>English</td>\n",
       "      <td>5 out of 5 stars34 ratings</td>\n",
       "      <td>468.00</td>\n",
       "    </tr>\n",
       "    <tr>\n",
       "      <th>1</th>\n",
       "      <td>The Burning Maze</td>\n",
       "      <td>Writtenby:RickRiordan</td>\n",
       "      <td>Narratedby:RobbieDaymond</td>\n",
       "      <td>13 hrs and 8 mins</td>\n",
       "      <td>01-05-18</td>\n",
       "      <td>English</td>\n",
       "      <td>4.5 out of 5 stars41 ratings</td>\n",
       "      <td>820.00</td>\n",
       "    </tr>\n",
       "    <tr>\n",
       "      <th>2</th>\n",
       "      <td>The Deep End</td>\n",
       "      <td>Writtenby:JeffKinney</td>\n",
       "      <td>Narratedby:DanRussell</td>\n",
       "      <td>2 hrs and 3 mins</td>\n",
       "      <td>06-11-20</td>\n",
       "      <td>English</td>\n",
       "      <td>4.5 out of 5 stars38 ratings</td>\n",
       "      <td>410.00</td>\n",
       "    </tr>\n",
       "    <tr>\n",
       "      <th>3</th>\n",
       "      <td>Daughter of the Deep</td>\n",
       "      <td>Writtenby:RickRiordan</td>\n",
       "      <td>Narratedby:SoneelaNankani</td>\n",
       "      <td>11 hrs and 16 mins</td>\n",
       "      <td>05-10-21</td>\n",
       "      <td>English</td>\n",
       "      <td>4.5 out of 5 stars12 ratings</td>\n",
       "      <td>615.00</td>\n",
       "    </tr>\n",
       "    <tr>\n",
       "      <th>4</th>\n",
       "      <td>The Lightning Thief: Percy Jackson, Book 1</td>\n",
       "      <td>Writtenby:RickRiordan</td>\n",
       "      <td>Narratedby:JesseBernstein</td>\n",
       "      <td>10 hrs</td>\n",
       "      <td>13-01-10</td>\n",
       "      <td>English</td>\n",
       "      <td>4.5 out of 5 stars181 ratings</td>\n",
       "      <td>820.00</td>\n",
       "    </tr>\n",
       "  </tbody>\n",
       "</table>\n",
       "</div>"
      ],
      "text/plain": [
       "                                         name                     author  \\\n",
       "0                  Geronimo Stilton #11 & #12  Writtenby:GeronimoStilton   \n",
       "1                            The Burning Maze      Writtenby:RickRiordan   \n",
       "2                                The Deep End       Writtenby:JeffKinney   \n",
       "3                        Daughter of the Deep      Writtenby:RickRiordan   \n",
       "4  The Lightning Thief: Percy Jackson, Book 1      Writtenby:RickRiordan   \n",
       "\n",
       "                    narrator                time releasedate language  \\\n",
       "0      Narratedby:BillLobely   2 hrs and 20 mins    04-08-08  English   \n",
       "1   Narratedby:RobbieDaymond   13 hrs and 8 mins    01-05-18  English   \n",
       "2      Narratedby:DanRussell    2 hrs and 3 mins    06-11-20  English   \n",
       "3  Narratedby:SoneelaNankani  11 hrs and 16 mins    05-10-21  English   \n",
       "4  Narratedby:JesseBernstein              10 hrs    13-01-10  English   \n",
       "\n",
       "                           stars   price  \n",
       "0     5 out of 5 stars34 ratings  468.00  \n",
       "1   4.5 out of 5 stars41 ratings  820.00  \n",
       "2   4.5 out of 5 stars38 ratings  410.00  \n",
       "3   4.5 out of 5 stars12 ratings  615.00  \n",
       "4  4.5 out of 5 stars181 ratings  820.00  "
      ]
     },
     "execution_count": 64,
     "metadata": {},
     "output_type": "execute_result"
    }
   ],
   "source": [
    "audible_uncleaned.head()"
   ]
  },
  {
   "cell_type": "code",
   "execution_count": 65,
   "metadata": {},
   "outputs": [],
   "source": [
    "#name. Number of books can be extracted depending on the case\n",
    "#author: remove written by and separate names\n",
    "#narrator: idem\n",
    "#time:convert to datetime64\n",
    "#releasedate: convert to datetime 64\n",
    "#language: --\n",
    "#stars: separate stars and ratings\n",
    "#price: convert to euros."
   ]
  },
  {
   "cell_type": "code",
   "execution_count": 66,
   "metadata": {},
   "outputs": [
    {
     "name": "stdout",
     "output_type": "stream",
     "text": [
      "<class 'pandas.core.frame.DataFrame'>\n",
      "RangeIndex: 87489 entries, 0 to 87488\n",
      "Data columns (total 8 columns):\n",
      " #   Column       Non-Null Count  Dtype \n",
      "---  ------       --------------  ----- \n",
      " 0   name         87489 non-null  object\n",
      " 1   author       87489 non-null  object\n",
      " 2   narrator     87489 non-null  object\n",
      " 3   time         87489 non-null  object\n",
      " 4   releasedate  87489 non-null  object\n",
      " 5   language     87489 non-null  object\n",
      " 6   stars        87489 non-null  object\n",
      " 7   price        87489 non-null  object\n",
      "dtypes: object(8)\n",
      "memory usage: 5.3+ MB\n"
     ]
    }
   ],
   "source": [
    "audible_uncleaned.info()"
   ]
  },
  {
   "cell_type": "code",
   "execution_count": 67,
   "metadata": {},
   "outputs": [],
   "source": [
    "audible_cleaned =pd.DataFrame()"
   ]
  },
  {
   "cell_type": "code",
   "execution_count": 68,
   "metadata": {},
   "outputs": [],
   "source": [
    "audible_cleaned[\"name\"]=audible_uncleaned[\"name\"].copy()"
   ]
  },
  {
   "cell_type": "code",
   "execution_count": 69,
   "metadata": {},
   "outputs": [],
   "source": [
    "def extract_text_left_of (strReference, serToProcess):\n",
    "    return serToProcess.str.extract(r\"\"+strReference+\"(.*)\")"
   ]
  },
  {
   "cell_type": "code",
   "execution_count": 70,
   "metadata": {},
   "outputs": [],
   "source": [
    "def splitCamelCase(str):\n",
    " \n",
    "    new_string=\"*\"\n",
    "    for i in str:\n",
    "        if(i.isupper() and new_string[-1].isalpha()):\n",
    "            new_string+=\"*\"+i\n",
    "        else:\n",
    "            new_string+=i\n",
    "    \n",
    "    x= new_string.split(\"*\")\n",
    "    if '' in x:\n",
    "       x.remove('')\n",
    "    return \" \".join(x)\n"
   ]
  },
  {
   "cell_type": "code",
   "execution_count": 71,
   "metadata": {},
   "outputs": [],
   "source": [
    "audible_cleaned[\"author\"]=audible_uncleaned[\"author\"]\\\n",
    "                            .pipe((extract_text_left_of,\"serToProcess\"),strReference=\"Writtenby:\")\\\n",
    "                            .pipe(np.vectorize(splitCamelCase))"
   ]
  },
  {
   "cell_type": "code",
   "execution_count": 72,
   "metadata": {},
   "outputs": [
    {
     "data": {
      "text/plain": [
       "' def splitCamelCase(str):\\n    def addAsteriskInCaseChange(str):\\n        new_string=\"*\"\\n        for i in str:\\n            if(i.isupper() and new_string[-1].isalpha()):\\n                new_string+=\"*\"+i\\n            else:\\n                new_string+=i\\n        return new_string\\n\\n    def splitStrOnAsterisk(str):\\n        return str.split(\"*\")\\n    def removeEmpty(lst):\\n    #if \\'\\' in lst:\\n    #    x.remove(\\'\\')\\n        return [n for n in str if not(n==\\'\\')]\\n    def joinListWithSpaces(lst):\\n        return \" \".join(lst)\\n    return joinListWithSpaces(removeEmpty(splitStrOnAsterisk( addAsteriskInCaseChange(str) ))) '"
      ]
     },
     "execution_count": 72,
     "metadata": {},
     "output_type": "execute_result"
    }
   ],
   "source": [
    "\"\"\" def splitCamelCase(str):\n",
    "    def addAsteriskInCaseChange(str):\n",
    "        new_string=\"*\"\n",
    "        for i in str:\n",
    "            if(i.isupper() and new_string[-1].isalpha()):\n",
    "                new_string+=\"*\"+i\n",
    "            else:\n",
    "                new_string+=i\n",
    "        return new_string\n",
    "\n",
    "    def splitStrOnAsterisk(str):\n",
    "        return str.split(\"*\")\n",
    "    def removeEmpty(lst):\n",
    "    #if '' in lst:\n",
    "    #    x.remove('')\n",
    "        return [n for n in str if not(n=='')]\n",
    "    def joinListWithSpaces(lst):\n",
    "        return \" \".join(lst)\n",
    "    return joinListWithSpaces(removeEmpty(splitStrOnAsterisk( addAsteriskInCaseChange(str) ))) \"\"\""
   ]
  },
  {
   "cell_type": "code",
   "execution_count": 73,
   "metadata": {},
   "outputs": [],
   "source": [
    "audible_cleaned[\"narrator\"]=audible_uncleaned[\"narrator\"]\\\n",
    "                            .pipe((extract_text_left_of,\"serToProcess\"),strReference=\"Narratedby:\")\\\n",
    "                            .pipe(np.vectorize(splitCamelCase))"
   ]
  },
  {
   "cell_type": "code",
   "execution_count": 74,
   "metadata": {},
   "outputs": [],
   "source": [
    "#pd.to_timedelta(audible_uncleaned[\"time\"])\n",
    "audible_cleaned[\"time\"]= pd.to_timedelta( \n",
    "                                        audible_uncleaned[\"time\"]\\\n",
    "                                            .str.replace(\" and \", \" \")\\\n",
    "                                            .str.replace(\"hr\", \"hour\")\\\n",
    "                                            .str.replace(\"mins\",\"min\")\\\n",
    "                                            .str.replace(\"Less than 1 minute\",\"60s\")\\\n",
    "                                        )"
   ]
  },
  {
   "cell_type": "code",
   "execution_count": 78,
   "metadata": {},
   "outputs": [],
   "source": [
    "audible_cleaned[\"releasedate\"]= pd.to_datetime(audible_uncleaned[\"releasedate\"], format='%d-%m-%y')"
   ]
  },
  {
   "cell_type": "code",
   "execution_count": 98,
   "metadata": {},
   "outputs": [],
   "source": [
    "#audible_uncleaned[\"stars\"].str.extract(r\"^(.*?)\\s\").pipe((pd.to_numeric,\"arg\"))\n",
    "regex_int_or_float=\"\\d*\\.?\\d*\"\n",
    "audible_cleaned[\"stars_rated\"]=audible_uncleaned[\"stars\"]\\\n",
    "                                                        .str.extract(r\"({g1})\\s\".format(g1=regex_int_or_float),expand=False)\\\n",
    "                                                        .pipe(pd.to_numeric,errors='coerce')"
   ]
  },
  {
   "cell_type": "code",
   "execution_count": 117,
   "metadata": {},
   "outputs": [],
   "source": [
    "def get_starts_rated(strSeries):\n",
    "    return strSeries\\\n",
    "                    .str.extract(r\"({g1})\\s\".format(g1=regex_int_or_float),expand=False)\\\n",
    "                    .pipe(pd.to_numeric,errors='coerce')"
   ]
  },
  {
   "cell_type": "code",
   "execution_count": 104,
   "metadata": {},
   "outputs": [],
   "source": [
    "audible_cleaned[\"max_stars\"]=audible_uncleaned[\"stars\"]\\\n",
    "                                                        .str.extract(r\"^(?:{g1}) out of ({g1})\".format(g1=regex_int_or_float),expand=False)\\\n",
    "                                                        .pipe(pd.to_numeric,errors='coerce')"
   ]
  },
  {
   "cell_type": "code",
   "execution_count": 105,
   "metadata": {},
   "outputs": [
    {
     "data": {
      "text/plain": [
       "5.0    15072\n",
       "Name: max_stars, dtype: int64"
      ]
     },
     "execution_count": 105,
     "metadata": {},
     "output_type": "execute_result"
    }
   ],
   "source": [
    "audible_cleaned[\"max_stars\"].value_counts()"
   ]
  },
  {
   "cell_type": "code",
   "execution_count": 119,
   "metadata": {},
   "outputs": [],
   "source": [
    "audible_cleaned[\"ratings\"]= audible_uncleaned[\"stars\"]\\\n",
    "                                                    .str.extract(r\"^(?:{g1}) out of (?:{g1}) stars({g1}) rating(?:s?)\".format(g1=regex_int_or_float),expand=False)\\\n",
    "                                                    .pipe(pd.to_numeric,errors='coerce')\\\n",
    "                                                    .fillna(0)"
   ]
  },
  {
   "cell_type": "code",
   "execution_count": 120,
   "metadata": {},
   "outputs": [],
   "source": [
    "audible_cleaned[\"normalised_rating\"]= audible_cleaned.eval(\"stars_rated / max_stars\" )"
   ]
  },
  {
   "cell_type": "code",
   "execution_count": 121,
   "metadata": {},
   "outputs": [],
   "source": [
    "audible_cleaned[\"language\"]= audible_uncleaned[\"language\"].copy()"
   ]
  },
  {
   "cell_type": "code",
   "execution_count": 125,
   "metadata": {},
   "outputs": [],
   "source": [
    "audible_cleaned[\"price_INR\"]= audible_uncleaned[\"price\"]\\\n",
    "                                                        .str.replace(r\",\",\"\", regex=True)\\\n",
    "                                                        .str.replace(r\"Free\",\"0\", regex=True)\\\n",
    "                                                        .pipe(pd.to_numeric)"
   ]
  },
  {
   "cell_type": "code",
   "execution_count": 126,
   "metadata": {},
   "outputs": [],
   "source": [
    "audible_cleaned[\"price_EUR_calc\"] = audible_cleaned[\"price_INR\"]*0.012 #Converted as of 5/12/2022. To do: get exchange rate from an api"
   ]
  },
  {
   "cell_type": "code",
   "execution_count": 127,
   "metadata": {},
   "outputs": [
    {
     "data": {
      "text/html": [
       "<div>\n",
       "<style scoped>\n",
       "    .dataframe tbody tr th:only-of-type {\n",
       "        vertical-align: middle;\n",
       "    }\n",
       "\n",
       "    .dataframe tbody tr th {\n",
       "        vertical-align: top;\n",
       "    }\n",
       "\n",
       "    .dataframe thead th {\n",
       "        text-align: right;\n",
       "    }\n",
       "</style>\n",
       "<table border=\"1\" class=\"dataframe\">\n",
       "  <thead>\n",
       "    <tr style=\"text-align: right;\">\n",
       "      <th></th>\n",
       "      <th>name</th>\n",
       "      <th>author</th>\n",
       "      <th>narrator</th>\n",
       "      <th>time</th>\n",
       "      <th>releasedate</th>\n",
       "      <th>stars_rated</th>\n",
       "      <th>max_stars</th>\n",
       "      <th>ratings</th>\n",
       "      <th>normalised_rating</th>\n",
       "      <th>language</th>\n",
       "      <th>price_INR</th>\n",
       "      <th>price_EUR_cal</th>\n",
       "    </tr>\n",
       "  </thead>\n",
       "  <tbody>\n",
       "    <tr>\n",
       "      <th>0</th>\n",
       "      <td>Geronimo Stilton #11 &amp; #12</td>\n",
       "      <td>Geronimo Stilton</td>\n",
       "      <td>Bill Lobely</td>\n",
       "      <td>0 days 02:20:00</td>\n",
       "      <td>2008-08-04</td>\n",
       "      <td>5.0</td>\n",
       "      <td>5.0</td>\n",
       "      <td>34.0</td>\n",
       "      <td>1.0</td>\n",
       "      <td>English</td>\n",
       "      <td>468.0</td>\n",
       "      <td>5.616</td>\n",
       "    </tr>\n",
       "    <tr>\n",
       "      <th>1</th>\n",
       "      <td>The Burning Maze</td>\n",
       "      <td>Rick Riordan</td>\n",
       "      <td>Robbie Daymond</td>\n",
       "      <td>0 days 13:08:00</td>\n",
       "      <td>2018-05-01</td>\n",
       "      <td>4.5</td>\n",
       "      <td>5.0</td>\n",
       "      <td>41.0</td>\n",
       "      <td>0.9</td>\n",
       "      <td>English</td>\n",
       "      <td>820.0</td>\n",
       "      <td>9.840</td>\n",
       "    </tr>\n",
       "    <tr>\n",
       "      <th>2</th>\n",
       "      <td>The Deep End</td>\n",
       "      <td>Jeff Kinney</td>\n",
       "      <td>Dan Russell</td>\n",
       "      <td>0 days 02:03:00</td>\n",
       "      <td>2020-11-06</td>\n",
       "      <td>4.5</td>\n",
       "      <td>5.0</td>\n",
       "      <td>38.0</td>\n",
       "      <td>0.9</td>\n",
       "      <td>English</td>\n",
       "      <td>410.0</td>\n",
       "      <td>4.920</td>\n",
       "    </tr>\n",
       "    <tr>\n",
       "      <th>3</th>\n",
       "      <td>Daughter of the Deep</td>\n",
       "      <td>Rick Riordan</td>\n",
       "      <td>Soneela Nankani</td>\n",
       "      <td>0 days 11:16:00</td>\n",
       "      <td>2021-10-05</td>\n",
       "      <td>4.5</td>\n",
       "      <td>5.0</td>\n",
       "      <td>12.0</td>\n",
       "      <td>0.9</td>\n",
       "      <td>English</td>\n",
       "      <td>615.0</td>\n",
       "      <td>7.380</td>\n",
       "    </tr>\n",
       "    <tr>\n",
       "      <th>4</th>\n",
       "      <td>The Lightning Thief: Percy Jackson, Book 1</td>\n",
       "      <td>Rick Riordan</td>\n",
       "      <td>Jesse Bernstein</td>\n",
       "      <td>0 days 10:00:00</td>\n",
       "      <td>2010-01-13</td>\n",
       "      <td>4.5</td>\n",
       "      <td>5.0</td>\n",
       "      <td>181.0</td>\n",
       "      <td>0.9</td>\n",
       "      <td>English</td>\n",
       "      <td>820.0</td>\n",
       "      <td>9.840</td>\n",
       "    </tr>\n",
       "  </tbody>\n",
       "</table>\n",
       "</div>"
      ],
      "text/plain": [
       "                                         name            author  \\\n",
       "0                  Geronimo Stilton #11 & #12  Geronimo Stilton   \n",
       "1                            The Burning Maze      Rick Riordan   \n",
       "2                                The Deep End       Jeff Kinney   \n",
       "3                        Daughter of the Deep      Rick Riordan   \n",
       "4  The Lightning Thief: Percy Jackson, Book 1      Rick Riordan   \n",
       "\n",
       "          narrator            time releasedate  stars_rated  max_stars  \\\n",
       "0      Bill Lobely 0 days 02:20:00  2008-08-04          5.0        5.0   \n",
       "1   Robbie Daymond 0 days 13:08:00  2018-05-01          4.5        5.0   \n",
       "2      Dan Russell 0 days 02:03:00  2020-11-06          4.5        5.0   \n",
       "3  Soneela Nankani 0 days 11:16:00  2021-10-05          4.5        5.0   \n",
       "4  Jesse Bernstein 0 days 10:00:00  2010-01-13          4.5        5.0   \n",
       "\n",
       "   ratings  normalised_rating language  price_INR  price_EUR_cal  \n",
       "0     34.0                1.0  English      468.0          5.616  \n",
       "1     41.0                0.9  English      820.0          9.840  \n",
       "2     38.0                0.9  English      410.0          4.920  \n",
       "3     12.0                0.9  English      615.0          7.380  \n",
       "4    181.0                0.9  English      820.0          9.840  "
      ]
     },
     "execution_count": 127,
     "metadata": {},
     "output_type": "execute_result"
    }
   ],
   "source": [
    "audible_cleaned.head()"
   ]
  },
  {
   "cell_type": "code",
   "execution_count": 128,
   "metadata": {},
   "outputs": [
    {
     "name": "stdout",
     "output_type": "stream",
     "text": [
      "<class 'pandas.core.frame.DataFrame'>\n",
      "RangeIndex: 87489 entries, 0 to 87488\n",
      "Data columns (total 12 columns):\n",
      " #   Column             Non-Null Count  Dtype          \n",
      "---  ------             --------------  -----          \n",
      " 0   name               87489 non-null  object         \n",
      " 1   author             87489 non-null  object         \n",
      " 2   narrator           87489 non-null  object         \n",
      " 3   time               87489 non-null  timedelta64[ns]\n",
      " 4   releasedate        87489 non-null  datetime64[ns] \n",
      " 5   stars_rated        15072 non-null  float64        \n",
      " 6   max_stars          15072 non-null  float64        \n",
      " 7   ratings            87489 non-null  float64        \n",
      " 8   normalised_rating  15072 non-null  float64        \n",
      " 9   language           87489 non-null  object         \n",
      " 10  price_INR          87489 non-null  float64        \n",
      " 11  price_EUR_cal      87489 non-null  float64        \n",
      "dtypes: datetime64[ns](1), float64(6), object(4), timedelta64[ns](1)\n",
      "memory usage: 8.0+ MB\n"
     ]
    }
   ],
   "source": [
    "audible_cleaned.info()"
   ]
  },
  {
   "cell_type": "code",
   "execution_count": 129,
   "metadata": {},
   "outputs": [],
   "source": [
    "audible_cleaned.to_csv(\"audible_cleaned.csv\", index=False)"
   ]
  },
  {
   "cell_type": "code",
   "execution_count": null,
   "metadata": {},
   "outputs": [],
   "source": []
  }
 ],
 "metadata": {
  "kernelspec": {
   "display_name": "Python 3.9.15 ('base')",
   "language": "python",
   "name": "python3"
  },
  "language_info": {
   "codemirror_mode": {
    "name": "ipython",
    "version": 3
   },
   "file_extension": ".py",
   "mimetype": "text/x-python",
   "name": "python",
   "nbconvert_exporter": "python",
   "pygments_lexer": "ipython3",
   "version": "3.9.15"
  },
  "orig_nbformat": 4,
  "vscode": {
   "interpreter": {
    "hash": "dfb1d0d5d45e308c1703e995971ca70df29b06cb3ef3c4914a8fa75bd8c261ed"
   }
  }
 },
 "nbformat": 4,
 "nbformat_minor": 2
}
