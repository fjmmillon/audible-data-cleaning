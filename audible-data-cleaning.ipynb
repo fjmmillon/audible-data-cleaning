{
 "cells": [
  {
   "cell_type": "markdown",
   "metadata": {},
   "source": [
    "# Data cleaning practice. Audible dataset #"
   ]
  },
  {
   "cell_type": "markdown",
   "metadata": {},
   "source": [
    "Importing the necessary libraries:"
   ]
  },
  {
   "cell_type": "code",
   "execution_count": 149,
   "metadata": {},
   "outputs": [],
   "source": [
    "import numpy as np\n",
    "import pandas as pd\n",
    "import matplotlib.pyplot as plt\n",
    "import seaborn as sns\n",
    "import os\n",
    "from functools import partial"
   ]
  },
  {
   "cell_type": "markdown",
   "metadata": {},
   "source": [
    "You can find the dataset in [https://www.kaggle.com/datasets/snehangsude/audible-dataset](https://www.kaggle.com/datasets/snehangsude/audible-dataset). All credit to the author.\n",
    "\n",
    "I will be using an already downloaded version."
   ]
  },
  {
   "cell_type": "code",
   "execution_count": 150,
   "metadata": {},
   "outputs": [],
   "source": [
    "wd = os.getcwd()+\"/\"\n",
    "audible_uncleaned = pd.read_csv(wd+\"audible_uncleaned.csv\")"
   ]
  },
  {
   "cell_type": "markdown",
   "metadata": {},
   "source": [
    "Let's explore the dataframe:"
   ]
  },
  {
   "cell_type": "code",
   "execution_count": 151,
   "metadata": {},
   "outputs": [
    {
     "data": {
      "text/html": [
       "<div>\n",
       "<style scoped>\n",
       "    .dataframe tbody tr th:only-of-type {\n",
       "        vertical-align: middle;\n",
       "    }\n",
       "\n",
       "    .dataframe tbody tr th {\n",
       "        vertical-align: top;\n",
       "    }\n",
       "\n",
       "    .dataframe thead th {\n",
       "        text-align: right;\n",
       "    }\n",
       "</style>\n",
       "<table border=\"1\" class=\"dataframe\">\n",
       "  <thead>\n",
       "    <tr style=\"text-align: right;\">\n",
       "      <th></th>\n",
       "      <th>name</th>\n",
       "      <th>author</th>\n",
       "      <th>narrator</th>\n",
       "      <th>time</th>\n",
       "      <th>releasedate</th>\n",
       "      <th>language</th>\n",
       "      <th>stars</th>\n",
       "      <th>price</th>\n",
       "    </tr>\n",
       "  </thead>\n",
       "  <tbody>\n",
       "    <tr>\n",
       "      <th>0</th>\n",
       "      <td>Geronimo Stilton #11 &amp; #12</td>\n",
       "      <td>Writtenby:GeronimoStilton</td>\n",
       "      <td>Narratedby:BillLobely</td>\n",
       "      <td>2 hrs and 20 mins</td>\n",
       "      <td>04-08-08</td>\n",
       "      <td>English</td>\n",
       "      <td>5 out of 5 stars34 ratings</td>\n",
       "      <td>468.00</td>\n",
       "    </tr>\n",
       "    <tr>\n",
       "      <th>1</th>\n",
       "      <td>The Burning Maze</td>\n",
       "      <td>Writtenby:RickRiordan</td>\n",
       "      <td>Narratedby:RobbieDaymond</td>\n",
       "      <td>13 hrs and 8 mins</td>\n",
       "      <td>01-05-18</td>\n",
       "      <td>English</td>\n",
       "      <td>4.5 out of 5 stars41 ratings</td>\n",
       "      <td>820.00</td>\n",
       "    </tr>\n",
       "    <tr>\n",
       "      <th>2</th>\n",
       "      <td>The Deep End</td>\n",
       "      <td>Writtenby:JeffKinney</td>\n",
       "      <td>Narratedby:DanRussell</td>\n",
       "      <td>2 hrs and 3 mins</td>\n",
       "      <td>06-11-20</td>\n",
       "      <td>English</td>\n",
       "      <td>4.5 out of 5 stars38 ratings</td>\n",
       "      <td>410.00</td>\n",
       "    </tr>\n",
       "    <tr>\n",
       "      <th>3</th>\n",
       "      <td>Daughter of the Deep</td>\n",
       "      <td>Writtenby:RickRiordan</td>\n",
       "      <td>Narratedby:SoneelaNankani</td>\n",
       "      <td>11 hrs and 16 mins</td>\n",
       "      <td>05-10-21</td>\n",
       "      <td>English</td>\n",
       "      <td>4.5 out of 5 stars12 ratings</td>\n",
       "      <td>615.00</td>\n",
       "    </tr>\n",
       "    <tr>\n",
       "      <th>4</th>\n",
       "      <td>The Lightning Thief: Percy Jackson, Book 1</td>\n",
       "      <td>Writtenby:RickRiordan</td>\n",
       "      <td>Narratedby:JesseBernstein</td>\n",
       "      <td>10 hrs</td>\n",
       "      <td>13-01-10</td>\n",
       "      <td>English</td>\n",
       "      <td>4.5 out of 5 stars181 ratings</td>\n",
       "      <td>820.00</td>\n",
       "    </tr>\n",
       "  </tbody>\n",
       "</table>\n",
       "</div>"
      ],
      "text/plain": [
       "                                         name                     author  \\\n",
       "0                  Geronimo Stilton #11 & #12  Writtenby:GeronimoStilton   \n",
       "1                            The Burning Maze      Writtenby:RickRiordan   \n",
       "2                                The Deep End       Writtenby:JeffKinney   \n",
       "3                        Daughter of the Deep      Writtenby:RickRiordan   \n",
       "4  The Lightning Thief: Percy Jackson, Book 1      Writtenby:RickRiordan   \n",
       "\n",
       "                    narrator                time releasedate language  \\\n",
       "0      Narratedby:BillLobely   2 hrs and 20 mins    04-08-08  English   \n",
       "1   Narratedby:RobbieDaymond   13 hrs and 8 mins    01-05-18  English   \n",
       "2      Narratedby:DanRussell    2 hrs and 3 mins    06-11-20  English   \n",
       "3  Narratedby:SoneelaNankani  11 hrs and 16 mins    05-10-21  English   \n",
       "4  Narratedby:JesseBernstein              10 hrs    13-01-10  English   \n",
       "\n",
       "                           stars   price  \n",
       "0     5 out of 5 stars34 ratings  468.00  \n",
       "1   4.5 out of 5 stars41 ratings  820.00  \n",
       "2   4.5 out of 5 stars38 ratings  410.00  \n",
       "3   4.5 out of 5 stars12 ratings  615.00  \n",
       "4  4.5 out of 5 stars181 ratings  820.00  "
      ]
     },
     "execution_count": 151,
     "metadata": {},
     "output_type": "execute_result"
    }
   ],
   "source": [
    "audible_uncleaned.head()"
   ]
  },
  {
   "cell_type": "code",
   "execution_count": 152,
   "metadata": {},
   "outputs": [],
   "source": [
    "#name. Number of books can be extracted depending on the case\n",
    "#author: remove written by and separate names\n",
    "#narrator: idem\n",
    "#time:convert to datetime64\n",
    "#releasedate: convert to datetime 64\n",
    "#language: --\n",
    "#stars: separate stars and ratings\n",
    "#price: convert to euros."
   ]
  },
  {
   "cell_type": "code",
   "execution_count": 153,
   "metadata": {},
   "outputs": [
    {
     "name": "stdout",
     "output_type": "stream",
     "text": [
      "<class 'pandas.core.frame.DataFrame'>\n",
      "RangeIndex: 87489 entries, 0 to 87488\n",
      "Data columns (total 8 columns):\n",
      " #   Column       Non-Null Count  Dtype \n",
      "---  ------       --------------  ----- \n",
      " 0   name         87489 non-null  object\n",
      " 1   author       87489 non-null  object\n",
      " 2   narrator     87489 non-null  object\n",
      " 3   time         87489 non-null  object\n",
      " 4   releasedate  87489 non-null  object\n",
      " 5   language     87489 non-null  object\n",
      " 6   stars        87489 non-null  object\n",
      " 7   price        87489 non-null  object\n",
      "dtypes: object(8)\n",
      "memory usage: 5.3+ MB\n"
     ]
    }
   ],
   "source": [
    "audible_uncleaned.info()"
   ]
  },
  {
   "cell_type": "markdown",
   "metadata": {},
   "source": [
    "With this information, it seems evident that there are a number of things that can be done:\n",
    "- name. Number of books, and the series could be extracted. Difficult, given the heterogeneous way in which it is expressed.\n",
    "- author: remove \"Written by\" and transform CamelCase into proper names with spaces.\n",
    "- narrator: same thing that for author\n",
    "- time:convert from text to timedelta\n",
    "- releasedate: convert to datetime 64\n",
    "- language: Nothing to be done here.\n",
    "- stars: separate stars and number of ratings.\n",
    "- price: in the information of the dataset it is stated that prices are in INR. They can be trasnformed to floats and converted to euros."
   ]
  },
  {
   "cell_type": "markdown",
   "metadata": {},
   "source": [
    "Now, let's created an empty dataframe in which we can add the cleaned columns:"
   ]
  },
  {
   "cell_type": "code",
   "execution_count": 154,
   "metadata": {},
   "outputs": [],
   "source": [
    "audible_cleaned =pd.DataFrame()"
   ]
  },
  {
   "cell_type": "markdown",
   "metadata": {},
   "source": [
    "## Name column ##"
   ]
  },
  {
   "cell_type": "markdown",
   "metadata": {},
   "source": [
    "For now, name column will be left as it is:"
   ]
  },
  {
   "cell_type": "code",
   "execution_count": 155,
   "metadata": {},
   "outputs": [],
   "source": [
    "audible_cleaned[\"name\"]=audible_uncleaned[\"name\"].copy()"
   ]
  },
  {
   "cell_type": "markdown",
   "metadata": {},
   "source": [
    "## Author column ##"
   ]
  },
  {
   "cell_type": "markdown",
   "metadata": {},
   "source": [
    "To clean author column we need two functions:\n",
    "\n",
    "- The first, to remove \"Written by\":"
   ]
  },
  {
   "cell_type": "code",
   "execution_count": 156,
   "metadata": {},
   "outputs": [],
   "source": [
    "def extract_text_left_of (strReference, serToProcess):\n",
    "    return serToProcess.str.extract(r\"\"+strReference+\"(.*)\")"
   ]
  },
  {
   "cell_type": "markdown",
   "metadata": {},
   "source": [
    "- And the second to split CamelCase words with spaces:"
   ]
  },
  {
   "cell_type": "code",
   "execution_count": 157,
   "metadata": {},
   "outputs": [],
   "source": [
    "def splitCamelCase(str):\n",
    "    def addAsteriskInUpperCase(str):\n",
    "        new_string=\"*\"\n",
    "        for i in str:\n",
    "            if(i.isupper() and new_string[-1].isalpha()): #In addtion, previous character must be a letter. To prevent split in O'Brian for instance\n",
    "                new_string+=\"*\"+i\n",
    "            else:\n",
    "                new_string+=i\n",
    "        return new_string\n",
    "\n",
    "    def splitStrOnAsterisk(str):\n",
    "        return str.split(\"*\")\n",
    "    def removeEmpty(lst):\n",
    "        return [n for n in lst if not(n=='')]\n",
    "    def joinListWithSpaces(lst):\n",
    "        return \" \".join(lst)\n",
    "    return joinListWithSpaces(removeEmpty(splitStrOnAsterisk( addAsteriskInUpperCase(str) ))) "
   ]
  },
  {
   "cell_type": "markdown",
   "metadata": {},
   "source": [
    "Now, we can apply them to the original column:"
   ]
  },
  {
   "cell_type": "code",
   "execution_count": 158,
   "metadata": {},
   "outputs": [
    {
     "data": {
      "text/plain": [
       "0    Geronimo Stilton\n",
       "1        Rick Riordan\n",
       "2         Jeff Kinney\n",
       "3        Rick Riordan\n",
       "4        Rick Riordan\n",
       "Name: author, dtype: object"
      ]
     },
     "execution_count": 158,
     "metadata": {},
     "output_type": "execute_result"
    }
   ],
   "source": [
    "audible_cleaned[\"author\"]=(\n",
    "                            audible_uncleaned[\"author\"]\n",
    "                            .pipe((extract_text_left_of,\"serToProcess\"),strReference=\"Writtenby:\")\\\n",
    "                            .pipe(np.vectorize(splitCamelCase))\n",
    "                            )\n",
    "audible_cleaned[\"author\"].head()"
   ]
  },
  {
   "cell_type": "markdown",
   "metadata": {},
   "source": [
    "## Narrator column ##"
   ]
  },
  {
   "cell_type": "markdown",
   "metadata": {},
   "source": [
    "Same process than with author:"
   ]
  },
  {
   "cell_type": "code",
   "execution_count": 159,
   "metadata": {},
   "outputs": [],
   "source": [
    "audible_cleaned[\"narrator\"]=audible_uncleaned[\"narrator\"]\\\n",
    "                            .pipe((extract_text_left_of,\"serToProcess\"),strReference=\"Narratedby:\")\\\n",
    "                            .pipe(np.vectorize(splitCamelCase))"
   ]
  },
  {
   "cell_type": "code",
   "execution_count": 160,
   "metadata": {},
   "outputs": [
    {
     "data": {
      "text/plain": [
       "0        Bill Lobely\n",
       "1     Robbie Daymond\n",
       "2        Dan Russell\n",
       "3    Soneela Nankani\n",
       "4    Jesse Bernstein\n",
       "Name: narrator, dtype: object"
      ]
     },
     "execution_count": 160,
     "metadata": {},
     "output_type": "execute_result"
    }
   ],
   "source": [
    "audible_cleaned[\"narrator\"].head()"
   ]
  },
  {
   "cell_type": "markdown",
   "metadata": {},
   "source": [
    "## Time column ##"
   ]
  },
  {
   "cell_type": "markdown",
   "metadata": {},
   "source": [
    "We need to convert it to timedelta:"
   ]
  },
  {
   "cell_type": "code",
   "execution_count": 161,
   "metadata": {},
   "outputs": [],
   "source": [
    "\n",
    "audible_cleaned[\"time\"]= (pd.to_timedelta( \n",
    "                                        audible_uncleaned[\"time\"]\n",
    "                                            .str.replace(\" and \", \" \")\n",
    "                                            .str.replace(\"hr\", \"hour\")\n",
    "                                            .str.replace(\"mins\",\"min\")\n",
    "                                            .str.replace(\"Less than 1 minute\",\"60s\")\n",
    "                                        )\n",
    "                        )"
   ]
  },
  {
   "cell_type": "markdown",
   "metadata": {},
   "source": [
    "## Release Date column ##"
   ]
  },
  {
   "cell_type": "markdown",
   "metadata": {},
   "source": [
    "And this column to datetime64:"
   ]
  },
  {
   "cell_type": "code",
   "execution_count": 162,
   "metadata": {},
   "outputs": [],
   "source": [
    "audible_cleaned[\"releasedate\"]= pd.to_datetime(audible_uncleaned[\"releasedate\"], format='%d-%m-%y')"
   ]
  },
  {
   "cell_type": "markdown",
   "metadata": {},
   "source": [
    "## Stars column ##"
   ]
  },
  {
   "cell_type": "markdown",
   "metadata": {},
   "source": [
    "First, we need to extract the numbers. To do that we create a regex pattern and apply it to the first occurrence to extract the stars rated:"
   ]
  },
  {
   "cell_type": "code",
   "execution_count": 163,
   "metadata": {},
   "outputs": [],
   "source": [
    "\n",
    "regex_int_or_float=\"\\d*\\.?\\d*\"\n",
    "audible_cleaned[\"stars_rated\"]=(\n",
    "                                audible_uncleaned[\"stars\"]\n",
    "                                    .str.extract(r\"({g1})\\s\".format(g1=regex_int_or_float),expand=False)\\\n",
    "                                    .pipe(pd.to_numeric,errors='coerce')\n",
    "                                )"
   ]
  },
  {
   "cell_type": "markdown",
   "metadata": {},
   "source": [
    "By coercing errors in pd.to_numeric, books that have not been rated (\"Not rated yet\") are converted to NaN."
   ]
  },
  {
   "cell_type": "markdown",
   "metadata": {},
   "source": [
    "We can also extract the maximum rating for every row:"
   ]
  },
  {
   "cell_type": "code",
   "execution_count": 164,
   "metadata": {},
   "outputs": [],
   "source": [
    "audible_cleaned[\"max_stars\"]=(\n",
    "    audible_uncleaned[\"stars\"]\n",
    "    .str.extract(r\"^(?:{g1}) out of ({g1})\".format(g1=regex_int_or_float),expand=False)\\\n",
    "    .pipe(pd.to_numeric,errors='coerce')\n",
    ")"
   ]
  },
  {
   "cell_type": "markdown",
   "metadata": {},
   "source": [
    "And check that all are calculated taking 5 stars as the maximum:"
   ]
  },
  {
   "cell_type": "code",
   "execution_count": 165,
   "metadata": {},
   "outputs": [
    {
     "data": {
      "text/plain": [
       "5.0    15072\n",
       "Name: max_stars, dtype: int64"
      ]
     },
     "execution_count": 165,
     "metadata": {},
     "output_type": "execute_result"
    }
   ],
   "source": [
    "audible_cleaned[\"max_stars\"].value_counts()"
   ]
  },
  {
   "cell_type": "markdown",
   "metadata": {},
   "source": [
    "The numbers of ratings can be extracted using the same pattern. In this case, NaN values (for \"Not rated yet\") are filled with 0s."
   ]
  },
  {
   "cell_type": "code",
   "execution_count": 166,
   "metadata": {},
   "outputs": [],
   "source": [
    "audible_cleaned[\"ratings\"]=(\n",
    "     audible_uncleaned[\"stars\"]\n",
    "    .str.extract(r\"^(?:{g1}) out of (?:{g1}) stars({g1}) rating(?:s?)\".format(g1=regex_int_or_float),expand=False)\n",
    "    .pipe(pd.to_numeric,errors='coerce')\n",
    "    .fillna(0)\n",
    ")"
   ]
  },
  {
   "cell_type": "markdown",
   "metadata": {},
   "source": [
    "We also add a normalised rating column:"
   ]
  },
  {
   "cell_type": "code",
   "execution_count": 167,
   "metadata": {},
   "outputs": [],
   "source": [
    "audible_cleaned[\"normalised_stars_rating\"]= audible_cleaned.eval(\"stars_rated / max_stars\" )"
   ]
  },
  {
   "cell_type": "markdown",
   "metadata": {},
   "source": [
    "## Language column ##"
   ]
  },
  {
   "cell_type": "markdown",
   "metadata": {},
   "source": [
    "Explorign the language column we can see that to make the column more homogenuous we can capitalise all the languages and remove special characters (as in \"mandarin_chinese\"):"
   ]
  },
  {
   "cell_type": "code",
   "execution_count": 168,
   "metadata": {},
   "outputs": [
    {
     "data": {
      "text/plain": [
       "English             61884\n",
       "german               8295\n",
       "spanish              3496\n",
       "japanese             3167\n",
       "italian              2694\n",
       "french               2386\n",
       "russian              1804\n",
       "danish                935\n",
       "portuguese            526\n",
       "swedish               515\n",
       "Hindi                 436\n",
       "polish                224\n",
       "finnish               197\n",
       "dutch                 190\n",
       "tamil                 161\n",
       "catalan               153\n",
       "mandarin_chinese       97\n",
       "icelandic              52\n",
       "romanian               50\n",
       "hungarian              36\n",
       "urdu                   34\n",
       "afrikaans              28\n",
       "czech                  23\n",
       "turkish                20\n",
       "greek                  18\n",
       "arabic                 16\n",
       "norwegian              16\n",
       "galician               10\n",
       "bulgarian               9\n",
       "korean                  4\n",
       "slovene                 4\n",
       "hebrew                  2\n",
       "basque                  2\n",
       "telugu                  2\n",
       "lithuanian              2\n",
       "ukrainian               1\n",
       "Name: language, dtype: int64"
      ]
     },
     "execution_count": 168,
     "metadata": {},
     "output_type": "execute_result"
    }
   ],
   "source": [
    "audible_uncleaned[\"language\"].value_counts()"
   ]
  },
  {
   "cell_type": "code",
   "execution_count": 169,
   "metadata": {},
   "outputs": [
    {
     "data": {
      "text/plain": [
       "English             61884\n",
       "German               8295\n",
       "Spanish              3496\n",
       "Japanese             3167\n",
       "Italian              2694\n",
       "French               2386\n",
       "Russian              1804\n",
       "Danish                935\n",
       "Portuguese            526\n",
       "Swedish               515\n",
       "Hindi                 436\n",
       "Polish                224\n",
       "Finnish               197\n",
       "Dutch                 190\n",
       "Tamil                 161\n",
       "Catalan               153\n",
       "Mandarin chinese       97\n",
       "Icelandic              52\n",
       "Romanian               50\n",
       "Hungarian              36\n",
       "Urdu                   34\n",
       "Afrikaans              28\n",
       "Czech                  23\n",
       "Turkish                20\n",
       "Greek                  18\n",
       "Arabic                 16\n",
       "Norwegian              16\n",
       "Galician               10\n",
       "Bulgarian               9\n",
       "Korean                  4\n",
       "Slovene                 4\n",
       "Hebrew                  2\n",
       "Basque                  2\n",
       "Telugu                  2\n",
       "Lithuanian              2\n",
       "Ukrainian               1\n",
       "Name: language, dtype: int64"
      ]
     },
     "execution_count": 169,
     "metadata": {},
     "output_type": "execute_result"
    }
   ],
   "source": [
    "audible_cleaned[\"language\"]=(\n",
    "    audible_uncleaned[\"language\"]\n",
    "    .str.replace(pat=r\"_\", repl=r\" \")\n",
    "    .str.capitalize()\n",
    ")\n",
    "\n",
    "audible_cleaned[\"language\"].value_counts()"
   ]
  },
  {
   "cell_type": "markdown",
   "metadata": {},
   "source": [
    "## Price column ##"
   ]
  },
  {
   "cell_type": "markdown",
   "metadata": {},
   "source": [
    "And now, the price column:"
   ]
  },
  {
   "cell_type": "code",
   "execution_count": 170,
   "metadata": {},
   "outputs": [
    {
     "data": {
      "text/plain": [
       "0      468.00\n",
       "1      820.00\n",
       "2      410.00\n",
       "3      615.00\n",
       "4      820.00\n",
       "5      656.00\n",
       "6      233.00\n",
       "7      820.00\n",
       "8    1,256.00\n",
       "9      820.00\n",
       "Name: price, dtype: object"
      ]
     },
     "execution_count": 170,
     "metadata": {},
     "output_type": "execute_result"
    }
   ],
   "source": [
    "audible_uncleaned[\"price\"][0:10]"
   ]
  },
  {
   "cell_type": "markdown",
   "metadata": {},
   "source": [
    "To avoid errors with pd.to_numeric, we need to suppress the comma separators. Also, we replace the \"Free\" text with a 0s:"
   ]
  },
  {
   "cell_type": "code",
   "execution_count": 171,
   "metadata": {},
   "outputs": [],
   "source": [
    "audible_cleaned[\"price_INR\"]= (\n",
    "    audible_uncleaned[\"price\"]\n",
    "    .str.replace(r\",\",\"\", regex=True)\n",
    "    .str.replace(r\"Free\",\"0\", regex=True)\n",
    "    .pipe(pd.to_numeric)\n",
    ")"
   ]
  },
  {
   "cell_type": "code",
   "execution_count": 172,
   "metadata": {},
   "outputs": [],
   "source": [
    "audible_cleaned[\"price_EUR_calc\"] = audible_cleaned[\"price_INR\"]*0.012 #Converted as of 5/12/2022. To do: get exchange rate from an api"
   ]
  },
  {
   "cell_type": "code",
   "execution_count": 173,
   "metadata": {},
   "outputs": [
    {
     "data": {
      "text/html": [
       "<div>\n",
       "<style scoped>\n",
       "    .dataframe tbody tr th:only-of-type {\n",
       "        vertical-align: middle;\n",
       "    }\n",
       "\n",
       "    .dataframe tbody tr th {\n",
       "        vertical-align: top;\n",
       "    }\n",
       "\n",
       "    .dataframe thead th {\n",
       "        text-align: right;\n",
       "    }\n",
       "</style>\n",
       "<table border=\"1\" class=\"dataframe\">\n",
       "  <thead>\n",
       "    <tr style=\"text-align: right;\">\n",
       "      <th></th>\n",
       "      <th>name</th>\n",
       "      <th>author</th>\n",
       "      <th>narrator</th>\n",
       "      <th>time</th>\n",
       "      <th>releasedate</th>\n",
       "      <th>stars_rated</th>\n",
       "      <th>max_stars</th>\n",
       "      <th>ratings</th>\n",
       "      <th>normalised_stars_rating</th>\n",
       "      <th>language</th>\n",
       "      <th>price_INR</th>\n",
       "      <th>price_EUR_calc</th>\n",
       "    </tr>\n",
       "  </thead>\n",
       "  <tbody>\n",
       "    <tr>\n",
       "      <th>0</th>\n",
       "      <td>Geronimo Stilton #11 &amp; #12</td>\n",
       "      <td>Geronimo Stilton</td>\n",
       "      <td>Bill Lobely</td>\n",
       "      <td>0 days 02:20:00</td>\n",
       "      <td>2008-08-04</td>\n",
       "      <td>5.0</td>\n",
       "      <td>5.0</td>\n",
       "      <td>34.0</td>\n",
       "      <td>1.0</td>\n",
       "      <td>English</td>\n",
       "      <td>468.0</td>\n",
       "      <td>5.616</td>\n",
       "    </tr>\n",
       "    <tr>\n",
       "      <th>1</th>\n",
       "      <td>The Burning Maze</td>\n",
       "      <td>Rick Riordan</td>\n",
       "      <td>Robbie Daymond</td>\n",
       "      <td>0 days 13:08:00</td>\n",
       "      <td>2018-05-01</td>\n",
       "      <td>4.5</td>\n",
       "      <td>5.0</td>\n",
       "      <td>41.0</td>\n",
       "      <td>0.9</td>\n",
       "      <td>English</td>\n",
       "      <td>820.0</td>\n",
       "      <td>9.840</td>\n",
       "    </tr>\n",
       "    <tr>\n",
       "      <th>2</th>\n",
       "      <td>The Deep End</td>\n",
       "      <td>Jeff Kinney</td>\n",
       "      <td>Dan Russell</td>\n",
       "      <td>0 days 02:03:00</td>\n",
       "      <td>2020-11-06</td>\n",
       "      <td>4.5</td>\n",
       "      <td>5.0</td>\n",
       "      <td>38.0</td>\n",
       "      <td>0.9</td>\n",
       "      <td>English</td>\n",
       "      <td>410.0</td>\n",
       "      <td>4.920</td>\n",
       "    </tr>\n",
       "    <tr>\n",
       "      <th>3</th>\n",
       "      <td>Daughter of the Deep</td>\n",
       "      <td>Rick Riordan</td>\n",
       "      <td>Soneela Nankani</td>\n",
       "      <td>0 days 11:16:00</td>\n",
       "      <td>2021-10-05</td>\n",
       "      <td>4.5</td>\n",
       "      <td>5.0</td>\n",
       "      <td>12.0</td>\n",
       "      <td>0.9</td>\n",
       "      <td>English</td>\n",
       "      <td>615.0</td>\n",
       "      <td>7.380</td>\n",
       "    </tr>\n",
       "    <tr>\n",
       "      <th>4</th>\n",
       "      <td>The Lightning Thief: Percy Jackson, Book 1</td>\n",
       "      <td>Rick Riordan</td>\n",
       "      <td>Jesse Bernstein</td>\n",
       "      <td>0 days 10:00:00</td>\n",
       "      <td>2010-01-13</td>\n",
       "      <td>4.5</td>\n",
       "      <td>5.0</td>\n",
       "      <td>181.0</td>\n",
       "      <td>0.9</td>\n",
       "      <td>English</td>\n",
       "      <td>820.0</td>\n",
       "      <td>9.840</td>\n",
       "    </tr>\n",
       "  </tbody>\n",
       "</table>\n",
       "</div>"
      ],
      "text/plain": [
       "                                         name            author  \\\n",
       "0                  Geronimo Stilton #11 & #12  Geronimo Stilton   \n",
       "1                            The Burning Maze      Rick Riordan   \n",
       "2                                The Deep End       Jeff Kinney   \n",
       "3                        Daughter of the Deep      Rick Riordan   \n",
       "4  The Lightning Thief: Percy Jackson, Book 1      Rick Riordan   \n",
       "\n",
       "          narrator            time releasedate  stars_rated  max_stars  \\\n",
       "0      Bill Lobely 0 days 02:20:00  2008-08-04          5.0        5.0   \n",
       "1   Robbie Daymond 0 days 13:08:00  2018-05-01          4.5        5.0   \n",
       "2      Dan Russell 0 days 02:03:00  2020-11-06          4.5        5.0   \n",
       "3  Soneela Nankani 0 days 11:16:00  2021-10-05          4.5        5.0   \n",
       "4  Jesse Bernstein 0 days 10:00:00  2010-01-13          4.5        5.0   \n",
       "\n",
       "   ratings  normalised_stars_rating language  price_INR  price_EUR_calc  \n",
       "0     34.0                      1.0  English      468.0           5.616  \n",
       "1     41.0                      0.9  English      820.0           9.840  \n",
       "2     38.0                      0.9  English      410.0           4.920  \n",
       "3     12.0                      0.9  English      615.0           7.380  \n",
       "4    181.0                      0.9  English      820.0           9.840  "
      ]
     },
     "execution_count": 173,
     "metadata": {},
     "output_type": "execute_result"
    }
   ],
   "source": [
    "audible_cleaned.head()"
   ]
  },
  {
   "cell_type": "code",
   "execution_count": 174,
   "metadata": {},
   "outputs": [
    {
     "name": "stdout",
     "output_type": "stream",
     "text": [
      "<class 'pandas.core.frame.DataFrame'>\n",
      "RangeIndex: 87489 entries, 0 to 87488\n",
      "Data columns (total 12 columns):\n",
      " #   Column                   Non-Null Count  Dtype          \n",
      "---  ------                   --------------  -----          \n",
      " 0   name                     87489 non-null  object         \n",
      " 1   author                   87489 non-null  object         \n",
      " 2   narrator                 87489 non-null  object         \n",
      " 3   time                     87489 non-null  timedelta64[ns]\n",
      " 4   releasedate              87489 non-null  datetime64[ns] \n",
      " 5   stars_rated              15072 non-null  float64        \n",
      " 6   max_stars                15072 non-null  float64        \n",
      " 7   ratings                  87489 non-null  float64        \n",
      " 8   normalised_stars_rating  15072 non-null  float64        \n",
      " 9   language                 87489 non-null  object         \n",
      " 10  price_INR                87489 non-null  float64        \n",
      " 11  price_EUR_calc           87489 non-null  float64        \n",
      "dtypes: datetime64[ns](1), float64(6), object(4), timedelta64[ns](1)\n",
      "memory usage: 8.0+ MB\n"
     ]
    }
   ],
   "source": [
    "audible_cleaned.info()"
   ]
  },
  {
   "cell_type": "code",
   "execution_count": 175,
   "metadata": {},
   "outputs": [],
   "source": [
    "audible_cleaned.to_csv(\"audible_cleaned.csv\", index=False)"
   ]
  }
 ],
 "metadata": {
  "kernelspec": {
   "display_name": "Python 3.9.15 ('base')",
   "language": "python",
   "name": "python3"
  },
  "language_info": {
   "codemirror_mode": {
    "name": "ipython",
    "version": 3
   },
   "file_extension": ".py",
   "mimetype": "text/x-python",
   "name": "python",
   "nbconvert_exporter": "python",
   "pygments_lexer": "ipython3",
   "version": "3.9.15"
  },
  "orig_nbformat": 4,
  "vscode": {
   "interpreter": {
    "hash": "dfb1d0d5d45e308c1703e995971ca70df29b06cb3ef3c4914a8fa75bd8c261ed"
   }
  }
 },
 "nbformat": 4,
 "nbformat_minor": 2
}
